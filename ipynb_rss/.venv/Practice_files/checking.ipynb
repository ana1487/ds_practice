{
 "cells": [
  {
   "cell_type": "code",
   "execution_count": 3,
   "metadata": {},
   "outputs": [
    {
     "name": "stdout",
     "output_type": "stream",
     "text": [
      "Bajaj\n",
      "Honda\n",
      "Ducati\n"
     ]
    }
   ],
   "source": [
    "motorcycles =['Honda', 'Bajaj','Ducati']\n",
    "motorcycles .append('BMW')\n",
    "\n",
    "print(motorcycles[1])\n",
    "print(motorcycles[0])\n",
    "print(motorcycles[2]) "
   ]
  },
  {
   "cell_type": "code",
   "execution_count": 4,
   "metadata": {},
   "outputs": [],
   "source": [
    "motorcycles[-1] = 'KTM'\n",
    "motorcycles[-1] = ''"
   ]
  },
  {
   "cell_type": "code",
   "execution_count": 5,
   "metadata": {},
   "outputs": [
    {
     "name": "stdout",
     "output_type": "stream",
     "text": [
      "['Honda', 'Bajaj', 'Ducati', '']\n"
     ]
    }
   ],
   "source": [
    "print(motorcycles)"
   ]
  }
 ],
 "metadata": {
  "kernelspec": {
   "display_name": ".venv",
   "language": "python",
   "name": "python3"
  },
  "language_info": {
   "codemirror_mode": {
    "name": "ipython",
    "version": 3
   },
   "file_extension": ".py",
   "mimetype": "text/x-python",
   "name": "python",
   "nbconvert_exporter": "python",
   "pygments_lexer": "ipython3",
   "version": "3.12.4"
  }
 },
 "nbformat": 4,
 "nbformat_minor": 2
}
